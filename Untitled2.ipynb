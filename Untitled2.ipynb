{
 "cells": [
  {
   "cell_type": "code",
   "execution_count": 1,
   "metadata": {
    "collapsed": false
   },
   "outputs": [
    {
     "ename": "[string \"doFile('convolution2.lua)...\"]:1: unfinished string near ''convolution2.lua)'",
     "evalue": "",
     "output_type": "error",
     "traceback": [
      "[string \"doFile('convolution2.lua)...\"]:1: unfinished string near ''convolution2.lua)'"
     ]
    }
   ],
   "source": [
    "doFile('convolution2.lua)"
   ]
  },
  {
   "cell_type": "code",
   "execution_count": 2,
   "metadata": {
    "collapsed": false
   },
   "outputs": [
    {
     "ename": "[string \"local f = function() return doFile('convoluti...\"]:1: attempt to call global 'doFile' (a nil value)\nstack traceback:\n\t[string \"local f = function() return doFile('convoluti...\"]:1: in function 'f'\n\t[string \"local f = function() return doFile('convoluti...\"]:2: in main chunk\n\t[C]: in function 'xpcall'\n\t/usr/local/share/lua/5.1/itorch/main.lua:177: in function </usr/local/share/lua/5.1/itorch/main.lua:143>\n\t/usr/local/share/lua/5.1/lzmq/poller.lua:75: in function 'poll'\n\t/usr/local/share/lua/5.1/lzmq/impl/loop.lua:307: in function 'poll'\n\t/usr/local/share/lua/5.1/lzmq/impl/loop.lua:325: in function 'sleep_ex'\n\t/usr/local/share/lua/5.1/lzmq/impl/loop.lua:370: in function 'start'\n\t/usr/local/share/lua/5.1/itorch/main.lua:344: in main chunk\n\t[C]: in function 'require'\n\t[string \"arg={'/home/ubuntu/.ipython/profile_default/s...\"]:1: in main chunk",
     "evalue": "",
     "output_type": "error",
     "traceback": [
      "[string \"local f = function() return doFile('convoluti...\"]:1: attempt to call global 'doFile' (a nil value)\nstack traceback:\n\t[string \"local f = function() return doFile('convoluti...\"]:1: in function 'f'\n\t[string \"local f = function() return doFile('convoluti...\"]:2: in main chunk\n\t[C]: in function 'xpcall'\n\t/usr/local/share/lua/5.1/itorch/main.lua:177: in function </usr/local/share/lua/5.1/itorch/main.lua:143>\n\t/usr/local/share/lua/5.1/lzmq/poller.lua:75: in function 'poll'\n\t/usr/local/share/lua/5.1/lzmq/impl/loop.lua:307: in function 'poll'\n\t/usr/local/share/lua/5.1/lzmq/impl/loop.lua:325: in function 'sleep_ex'\n\t/usr/local/share/lua/5.1/lzmq/impl/loop.lua:370: in function 'start'\n\t/usr/local/share/lua/5.1/itorch/main.lua:344: in main chunk\n\t[C]: in function 'require'\n\t[string \"arg={'/home/ubuntu/.ipython/profile_default/s...\"]:1: in main chunk"
     ]
    }
   ],
   "source": [
    "doFile('convolution2.lua')\n"
   ]
  },
  {
   "cell_type": "code",
   "execution_count": 3,
   "metadata": {
    "collapsed": false
   },
   "outputs": [
    {
     "ename": "[string \"dofile('convolution2.lua)...\"]:1: unfinished string near ''convolution2.lua)'",
     "evalue": "",
     "output_type": "error",
     "traceback": [
      "[string \"dofile('convolution2.lua)...\"]:1: unfinished string near ''convolution2.lua)'"
     ]
    }
   ],
   "source": [
    "dofile('convolution2.lua)"
   ]
  },
  {
   "cell_type": "code",
   "execution_count": 4,
   "metadata": {
    "collapsed": false
   },
   "outputs": [
    {
     "ename": "[string \"local f = function() return doFile('convoluti...\"]:1: attempt to call global 'doFile' (a nil value)\nstack traceback:\n\t[string \"local f = function() return doFile('convoluti...\"]:1: in function 'f'\n\t[string \"local f = function() return doFile('convoluti...\"]:1: in main chunk\n\t[C]: in function 'xpcall'\n\t/usr/local/share/lua/5.1/itorch/main.lua:177: in function </usr/local/share/lua/5.1/itorch/main.lua:143>\n\t/usr/local/share/lua/5.1/lzmq/poller.lua:75: in function 'poll'\n\t/usr/local/share/lua/5.1/lzmq/impl/loop.lua:307: in function 'poll'\n\t/usr/local/share/lua/5.1/lzmq/impl/loop.lua:325: in function 'sleep_ex'\n\t/usr/local/share/lua/5.1/lzmq/impl/loop.lua:370: in function 'start'\n\t/usr/local/share/lua/5.1/itorch/main.lua:344: in main chunk\n\t[C]: in function 'require'\n\t[string \"arg={'/home/ubuntu/.ipython/profile_default/s...\"]:1: in main chunk",
     "evalue": "",
     "output_type": "error",
     "traceback": [
      "[string \"local f = function() return doFile('convoluti...\"]:1: attempt to call global 'doFile' (a nil value)\nstack traceback:\n\t[string \"local f = function() return doFile('convoluti...\"]:1: in function 'f'\n\t[string \"local f = function() return doFile('convoluti...\"]:1: in main chunk\n\t[C]: in function 'xpcall'\n\t/usr/local/share/lua/5.1/itorch/main.lua:177: in function </usr/local/share/lua/5.1/itorch/main.lua:143>\n\t/usr/local/share/lua/5.1/lzmq/poller.lua:75: in function 'poll'\n\t/usr/local/share/lua/5.1/lzmq/impl/loop.lua:307: in function 'poll'\n\t/usr/local/share/lua/5.1/lzmq/impl/loop.lua:325: in function 'sleep_ex'\n\t/usr/local/share/lua/5.1/lzmq/impl/loop.lua:370: in function 'start'\n\t/usr/local/share/lua/5.1/itorch/main.lua:344: in main chunk\n\t[C]: in function 'require'\n\t[string \"arg={'/home/ubuntu/.ipython/profile_default/s...\"]:1: in main chunk"
     ]
    }
   ],
   "source": [
    "doFile('convolution2.lua')"
   ]
  },
  {
   "cell_type": "code",
   "execution_count": null,
   "metadata": {
    "collapsed": true
   },
   "outputs": [],
   "source": [
    "dofile('convolution2.lua')"
   ]
  }
 ],
 "metadata": {
  "kernelspec": {
   "display_name": "iTorch",
   "language": "lua",
   "name": "itorch"
  },
  "language_info": {
   "name": "lua",
   "version": "20003"
  }
 },
 "nbformat": 4,
 "nbformat_minor": 0
}
